{
 "cells": [
  {
   "cell_type": "markdown",
   "metadata": {},
   "source": [
    "# FUNCTIONS\n",
    "\n",
    "Functions are very important in coding, since they allow you to define a process that can be repeated any number of times. We've already used a few of them, like ```range()``` or ```str()```. In a way, functions are a kind of variable whose definition is more code. (Really they're objects in Python, just like variables and classes). Here's how you might define a function.\n",
    "\n",
    "```\n",
    "def my_function(integer_input):\n",
    "    return integer_input*2\n",
    "    \n",
    "my_function(4) #equals 8\n",
    "my_function(0) #equals 0\n",
    "```\n",
    "All ```my_function``` does is return the input value times 2. Great. ```my_function``` is as smart as a second grader. What else can we do? \n",
    "\n",
    "Functions can take any sort of input, and any number of inputs. They don't necessarily have to return anything, but if you don't want them to you have to put ```return None``` to specify that. What's great about functions in Python is you don't have to define the variable type you want to input or output. For instance,\n",
    "\n",
    "```\n",
    "def add(input1, input2):\n",
    "    return(input1 + input2)\n",
    "    \n",
    "add(\"hello \",\"world!\") #returns \"hello world!\"\n",
    "add(4, 5) #returns 9\n",
    "```\n",
    "The ```add``` function is really just the ```+``` operator, but you can see that it can take either a string or an integer (or other numbers) and concatenate them or add them together depending on the inputs\n",
    "\n",
    "One benefit of using Jupyter Notebook is it's pretty easy for me to use an autograder on your functions. I've written a library of functions that take your functions as inputs and put them through a variety of tests to make sure they're working properly! So from here on out, you might be asked to define functions and then pass them to my grader. Here's some examples of what I mean:"
   ]
  },
  {
   "cell_type": "code",
   "execution_count": 1,
   "metadata": {},
   "outputs": [],
   "source": [
    "#Run this cell to import my grading library\n",
    "import smellsgrad1"
   ]
  },
  {
   "cell_type": "code",
   "execution_count": 5,
   "metadata": {},
   "outputs": [
    {
     "name": "stdout",
     "output_type": "stream",
     "text": [
      "You didn't pass me a function :'(\n"
     ]
    }
   ],
   "source": [
    "#Look at the docstring(comments under the my_adder function) and write a function that does what it says!\n",
    "#When you run this cell, it will also pass your function to my grader and see if everything works well!\n",
    "def my_adder(a,b):\n",
    "    \"\"\"\n",
    "    function my_adder:\n",
    "    inputs: int 'a', int 'b'\n",
    "    returns: sum of a and b\n",
    "    \"\"\"\n",
    "    #write code here!\n",
    "    return a - b\n",
    "    \n",
    "smellsgrad1.grader1_3_1(5)\n",
    "#You can also try to see what happens when you define the function incorrectly (say, subtract instead of add)"
   ]
  },
  {
   "cell_type": "code",
   "execution_count": null,
   "metadata": {},
   "outputs": [],
   "source": [
    "#Let's try another, slightly more challenging one:\n",
    "def get_corners(inputarray):\n",
    "    \"\"\"\n",
    "    function get_corners\n",
    "    input: 2D array 'inputarray' where first index is X axis and second index is Y axis\n",
    "    returns: list of values of inputarray's corners in the format:\n",
    "    [top left corner, top right corner, bottom left corner, bottom right corner]\n",
    "    \"\"\"\n",
    "    #write code here!\n",
    "\n",
    "smellsgrad1.grader1_3_2(get_corners)"
   ]
  },
  {
   "cell_type": "markdown",
   "metadata": {},
   "source": [
    "It's important to understand functions, since the primary advantage of Python is that there are loads of libraries out there that have their own functions that you'll want to use. If you can write your own functions, you shuld be able to understand how to use them. Conversely, if you understand how others' functions work, you'll be better at writing your own functions."
   ]
  }
 ],
 "metadata": {
  "kernelspec": {
   "display_name": "Python 3",
   "language": "python",
   "name": "python3"
  },
  "language_info": {
   "codemirror_mode": {
    "name": "ipython",
    "version": 3
   },
   "file_extension": ".py",
   "mimetype": "text/x-python",
   "name": "python",
   "nbconvert_exporter": "python",
   "pygments_lexer": "ipython3",
   "version": "3.7.7"
  }
 },
 "nbformat": 4,
 "nbformat_minor": 4
}
