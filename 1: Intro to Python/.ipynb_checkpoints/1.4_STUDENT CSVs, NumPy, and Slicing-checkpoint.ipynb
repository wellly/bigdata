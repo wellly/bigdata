{
 "cells": [
  {
   "cell_type": "code",
   "execution_count": null,
   "metadata": {},
   "outputs": [],
   "source": [
    "#Run this cell first please! It import necessary libraries\n",
    "#For now not very many libraries are imported, but as the course goes there will be more\n",
    "import wellygrad1"
   ]
  },
  {
   "cell_type": "markdown",
   "metadata": {},
   "source": [
    "# CSV FILES\n",
    "\n",
    "Datasets are often stored in CSV files, where CSV stands for \"Comma Separated Values\".  Any spreadsheet program (Google sheets, Excel, etc.) can all save files in this format.  A simple list would be stored in the CSV file like this...\n",
    "\n",
    "```'Monday', 'Tuesday', 'Wednesday', 'Thursday', 'Friday'```\n",
    "\n",
    "Each row of the file corresponds to a row in a multidimensional list.  And sometimes there is a header row at the start of the file that tells you what each column of data represents.  So, a complex list would look like:\n",
    "\n",
    "```\n",
    "'student id', 'admitted?', 'test 1 score', 'test 2 score', 'test 3 score'\n",
    "0, 1, 98, 97, 92\n",
    "1, 0, 81, 86, 75\n",
    "2, 0, 88, 89, 90\n",
    "...\n",
    "387, 1, 95, 99, 92\n",
    "```\n"
   ]
  },
  {
   "cell_type": "markdown",
   "metadata": {},
   "source": [
    "# NUMPY (!!!)\n",
    "\n",
    "NumPy (or numpy when I'm lazy, or np when I'm even lazier) is the scientific computing library for python.  It contains a **TON** of complex and sophisticated mathematical functions, but for our purposes it allows us to easily create and manipulate multidimensional lists. For instance, it can take a CSV file and copy all of its contents in a multidimensional list for you.  All in 1 line of code. Ah... python. \n",
    "\n",
    "*(Skip this paragraph if you don't care)* The other cool thing about NumPy is that it actually uses C++ code instead of Python sometimes! Python is a language built off of C++, so to make things (much, much) faster NumPy actually dips below high-level Python and gets into the nitty-gritty of C++ to make it a ton speedier. More on this later.\n",
    "\n",
    "And like we just mentioned about importing libraries and nicknames, nearly everyone that imports numpy gives it the nickname of np.  Just go with it, I guess it's cause you don't want to have to write out numpy every time you use one of its functions.\n",
    "\n",
    "Here's the easy way to load a CSV file into NumPy:\n",
    "\n",
    "```\n",
    "import numpy as np\n",
    "\n",
    "data = np.loadtxt('file_name.csv', delimiter=',', skiprows=1, dtype=None)\n",
    "```\n",
    "\n",
    "\n",
    "So, a few things to point out in this ```loadtxt()``` function...\n",
    "\n",
    "> 1) it makes things a lot easier to keep the CSV file you're working with in the same directory (folder) as your python code<br>\n",
    "\n",
    "> 2) the delimiter is a comma (',') because this is a CSV file (remember:  COMMA separated values)<br>\n",
    "\n",
    "> 3) the ```skiprows``` is an optional parameter, but any time you have a header row you set this value equal to 1<br>\n",
    "\n",
    "> 4) ```dtype``` means data type.  You can force numpy to try and interpret your data as a particular data type (e.g., float, int, string, etc.), but setting it equal to ```None``` lets numpy try to figure out what type of data it is.  Most of the time, this is the best approach.\n",
    "\n",
    "\n",
    "Once this ```loadtxt()``` function runs, the data variable will be a multidimensional list with all of the data from the file.  Nice. This is a numpy list, which will be explained later but isn't super incredibly important, except that you might hear me refer to a numpy list as a matrix.\n",
    "\n",
    "Notice how we did ```import numpy as np```. We have to do this before running any code. Just like defining variables in Jupyter Notebook, though, it doesn't have to happen in a cell that precedes another:\n",
    "\n"
   ]
  },
  {
   "cell_type": "code",
   "execution_count": null,
   "metadata": {},
   "outputs": [],
   "source": [
    "#run this cell second\n",
    "print(np.ones(1))"
   ]
  },
  {
   "cell_type": "code",
   "execution_count": null,
   "metadata": {},
   "outputs": [],
   "source": [
    "#run this cell first\n",
    "import numpy as np"
   ]
  },
  {
   "cell_type": "markdown",
   "metadata": {},
   "source": [
    "\n",
    "\n",
    "Now, you may be thinking... why bother using numpy at all?  Why not just use all the list techniques we've already talked about?  Well, you can still use all those techniques, but numpy offers some really nice features.\n",
    "\n",
    "Remember how with lists to find the size of the list you had to use the ```len()``` function to find the number of rows and then use it again to find the length of the rows?  Numpy has a simple command that gives you the size of the list directly...\n",
    "\n",
    "```\n",
    "data.shape\t\t# will return the size of the list (rows, columns)\n",
    "```\n",
    "\n",
    "Also, remember how we filled in lists with 0 using for loops and the ```range()``` function?  Numpy has a simple solution for this, too.\n",
    "\n",
    "```\n",
    "data = np.zeros((10, 5))\t# a multidimensional list (10 rows, 5 columns) filled with 0\n",
    "data = np.ones((10, 5))\t# a multidimensional list (10 rows, 5 columns) filled with 1\n",
    "data = np.full((10, 5), 12)\t# a multidimensional list (10 rows, 5 columns) filled with 12\n",
    "```\n",
    "\n",
    "So, notice that last function ```full()```... it can do exactly what ```zeros()``` and ```ones()``` can do, but actually adds more functionality.  You can fill the list with whatever value you'd like.  Cool.\n",
    "\n",
    "Finally, here's one more useful numpy function... ```linspace()```.  Sometimes, you'll need to create a list of values that are evenly spaced.  ```linspace()``` can do this for you.\n",
    "\n",
    "```\n",
    "np.linspace(2.0, 3.0, num=5)\t# will return [2, 2.25, 2.5, 2.75, 3]\n",
    "\n",
    "np.linspace(2.0, 3.0, num=5, endpoint=False)\t# will return [2, 2.2, 2.4, 2.6, 2.8]\n",
    "```\n",
    "Also, a good thing to know how to do is check the docstrings of a function. Pretty much all of the popular python libraries have some really informative documentation, and the contributors to these projects spend a lot of time and effort adding the information in their documentation to their docstrings. When you are inside the parentheses of a function in Jupyter Notebook, just press ```shift-tab``` to see the docstring preview, or ```shift-tab``` twice to see it expanded. Try it here:"
   ]
  },
  {
   "cell_type": "code",
   "execution_count": null,
   "metadata": {},
   "outputs": [],
   "source": [
    "#make sure you've imported numpy as np before trying this...\n",
    "np.linspace('''put the cursor inside these parenthesis and hit shift-tab''')\n",
    "#also notice how I used triple apostrophes to comment instead, so that the close-parenthesis is still code and not commented"
   ]
  },
  {
   "cell_type": "markdown",
   "metadata": {},
   "source": [
    "Checking the docstring is ***INCREDIBLY*** useful when you're working with functions that are not your own. Similarly, when you're writing your own functions, it's good form to create a docstring so that others know what's happening. Generally you just need to explain the necessary inputs of a function, what it does, and it should output.\n",
    "\n",
    "A few vocab things here: in NumPy (and other similar libraries), lists are referred to as *vectors, matrices, or tensors*. Your math teacher should be able to explain these things better than I can, but I'll give it a shot.\n",
    "\n",
    ">*Vectors* are 1-dimensional lists. A vector that has $n$ items in it is described as an $n$-dimensional vector. This doesn't mean it's an $n$-dimensional list, it just means it has $n$ elements in 1-dimension. This is because vectors are traditionally used to point to a location in an $n$-dimensional space, so it needs $n$ elements to specify a unique location. Like how you have x- and y- coordinates to describe a location in 2-dimensions, or x-, y-, and z- coordinates for 3-dimensions.\n",
    "\n",
    ">*Matrices* (singular is *matrix*) are 2-dimensional lists. A matrix might typically be described as an $M$ by $N$ matrix, which means it has $M$ rows and $N$ columns. You can also think of a matrix as a list of vectors. You'll probably also see someone describe a matrix with more than 2 dimensions, which is technically a tensor but doesn't really matter that much. So maybe it's an $M$ by $N$ by $P$ 'matrix,' which is 3-dimensional.\n",
    "\n",
    ">*Tensors* are just matrices that are more than 2-dimensions. I'm pretty sure this definition is just mathematical, because for all intents and purposes you'll call any numpy list a matrix (or a vector if it's 1-dimension, but not necessarily). When you get into machine learning, you'll notice that there are libraries that use special matrices that are like numpy matrices, but they call them tensors to differentiate between a special, machine-learning matrix and a numpy matrix.\n",
    "\n",
    "Sorry, that was a bit long-winded, but I think it's important to understand these terms so that when you're reading documentation in the real world of coding, you'll know what's going on. I also might forget which terms I'm supposed to use for this class, so it's kinda covering my backside so you know what I'm talking about!\n",
    "\n",
    "There's one more thing we'll talk about before giving you some practice, but I'll go into a lot more depth with it later. Basically, to index normal lists you have to do multiple sets of square brackets, but for numpy you can use one set of square brackets and separate your indices using commas. Example:\n",
    "\n",
    "```\n",
    "my_list = [[1,2,3],[4,5,6],[7,8,9]]\n",
    "my_matrix = np.array(my_list) #casting a multidimensional list to a list!\n",
    "\n",
    "print( my_list[1][2] ) #returns 6 (second row, third column)\n",
    "print( my_matrix[1,2] ) #returns 6 (also second row, third column)\n",
    "```\n",
    "That's all about indexing for now, so let's chill with the lecturing and get to coding!\n",
    "\n",
    "\n",
    "# PRACTICE"
   ]
  },
  {
   "cell_type": "code",
   "execution_count": null,
   "metadata": {},
   "outputs": [],
   "source": [
    "\"\"\"\n",
    "Try loading in the data from 'iris_data.csv'; there is a header row.\n",
    "Once the data is loaded in, print the size of the multidimensional list using the .shape method. \n",
    "It should be 150 x 5.\n",
    "Then print the datum in the 6th row and 4th column. It should be 0.4 (not 0.0, if you get that google what number python indexing starts at)\n",
    "\"\"\"\n",
    "\n",
    "#Write code here"
   ]
  },
  {
   "cell_type": "code",
   "execution_count": null,
   "metadata": {},
   "outputs": [],
   "source": [
    "def create_zeros_matrix(input_matrix):\n",
    "    \"\"\"\n",
    "    Create a matrix full of zeros of the same shape as an input matrix\n",
    "    \n",
    "    Input: input_matrix type: numpy matrix of variable shape M x N\n",
    "    \n",
    "    Output: numpy matrix of only 0s (in integer form, not floats) of shape M x N\n",
    "    \n",
    "    hint: numpy array's shape method and np.zeros (check the docstrings!)\n",
    "    \"\"\"\n",
    "    #write your function here!\n",
    "    \n",
    "wellygrad1.grader1_4_1(create_zeros_matrix)"
   ]
  },
  {
   "cell_type": "code",
   "execution_count": null,
   "metadata": {},
   "outputs": [],
   "source": [
    "def create_full_matrix(input_matrix,input_filler):\n",
    "    \"\"\"\n",
    "    Create a matrix full of a specified number of the same shape as an input matrix\n",
    "    \n",
    "    Input: input_matrix type: numpy matrix of variable shape M x N\n",
    "           input_filler type: integer or float \n",
    "    \n",
    "    Output: numpy matrix of only input_fillers (in integer form, not floats) of shape M x N\n",
    "    \n",
    "    hint: if you don't know the numpy function to use, google it!\n",
    "    \"\"\"\n",
    "    #write your function here!\n",
    "wellygrad1.grader1_4_2(create_full_matrix)"
   ]
  },
  {
   "cell_type": "code",
   "execution_count": null,
   "metadata": {},
   "outputs": [],
   "source": [
    "#Create a list that goes from 2 to 7 with 8 elements.\n",
    "\n",
    "#code here"
   ]
  },
  {
   "cell_type": "code",
   "execution_count": null,
   "metadata": {},
   "outputs": [],
   "source": [
    "#If there were no header row, how would you change the loadtxt() function?\n",
    "\n",
    "#code here"
   ]
  },
  {
   "cell_type": "code",
   "execution_count": null,
   "metadata": {},
   "outputs": [],
   "source": [
    "#What if there were 2 header rows?\n",
    "\n",
    "#code here"
   ]
  },
  {
   "cell_type": "markdown",
   "metadata": {},
   "source": [
    "# CSV WITHOUT NUMPY\n",
    "\n",
    "Sometimes CSVs can be difficult to work with.  For instance, they may have a mixture of ints, floats, and strings.  So using the default CSV library and then manipulating the data is sometimes easier. When you use the default CSV library, all of the the data is loaded in as strings, so you'll have to convert it to the data type you want.\n",
    "\n",
    "Let's load in the 'iris_data.csv' data again to see what happens...\n"
   ]
  },
  {
   "cell_type": "code",
   "execution_count": null,
   "metadata": {},
   "outputs": [],
   "source": [
    "#run this cell\n",
    "\n",
    "import csv\n",
    "\n",
    "with open('iris_data.csv', newline='') as csvfile:\n",
    "    csv_reader = csv.reader(csvfile, delimiter=',', quotechar='|')\n",
    "\n",
    "    # how to skip the first row\n",
    "    next(csv_reader)\n",
    "\n",
    "    for line in csv_reader:\n",
    "        print (line)"
   ]
  },
  {
   "cell_type": "markdown",
   "metadata": {},
   "source": [
    "Some things to note here...\n",
    "\n",
    ">1) the name of the file is 'iris_data.csv'\n",
    "\n",
    ">2) because it's a CSV, the delimiter is a comma\n",
    "\n",
    ">3) we iterate through the csv_reader printing out each line\n",
    "\n",
    ">4) note that there is no skiprows parameter; you'll have to deal with this manually using the .next() function\n",
    "\n",
    "How do the lines look?  Pretty good, right?  Except... all of those ints and floats are now strings.\n",
    "\n",
    "So, let's convert them to the data type we'd prefer...\n"
   ]
  },
  {
   "cell_type": "code",
   "execution_count": null,
   "metadata": {},
   "outputs": [],
   "source": [
    "#run this cell\n",
    "\n",
    "import csv\n",
    "\n",
    "category = []\n",
    "data = []\n",
    "\n",
    "with open('iris_data.csv', newline='') as csvfile:\n",
    "    csv_reader = csv.reader(csvfile, delimiter=',', quotechar='|')\n",
    "    counter = 0\n",
    "    for line in csv_reader:\n",
    "        counter += 1\n",
    "        if counter == 1:\n",
    "            continue\n",
    "        temp = []\n",
    "        temp.append(float(line[0]))\n",
    "        temp.append(float(line[1]))\n",
    "        temp.append(float(line[2]))\n",
    "        temp.append(float(line[3]))\n",
    "        data.append(temp)\n",
    "\n",
    "        category.append(int(line[4]))\n",
    "\n",
    "    print (data)\n",
    "    print (category)"
   ]
  },
  {
   "cell_type": "markdown",
   "metadata": {},
   "source": [
    "So what is this code doing...\n",
    "\n",
    ">1) using the counter to skip the first line\n",
    "\n",
    ">2) converting the 1st 4 columns to floats\n",
    "\n",
    ">3) appending these floats to the data list\n",
    "\n",
    ">4) converting the last column to an int and appending it to a category list\n",
    "\n",
    "In this way, we've handled a difficult dataset.  It had a first row of metadata, some floats, and some ints, and we got it into a good format.\n",
    "\n",
    "If you did this all correctly, it should have printed out the data (in a multidimensional list of floats) and then the iris categories (in a list of ints). Nice!\n",
    "\n",
    "To summarize, you may find the generic CSV library easier to use than the NUMPY library with CSV files.  Just be aware that both options are available.  Later, we'll learn how to write your data to a CSV file (which is super! helpful).\n"
   ]
  },
  {
   "cell_type": "markdown",
   "metadata": {},
   "source": [
    "# SLICING LISTS\n",
    "(which I might also refer to as indexing)\n",
    "\n",
    "Let's say that you want to grab some portion of a list.  This is called slicing and for analyzing data it is quite useful.  Further, numpy allows you to slice matrices really easily.\n",
    "\t\n",
    "Say we have the following list:\n",
    "\n",
    "```\n",
    "trees = ['oak', 'redwood', 'pine', 'maple', 'palm', 'cedar', 'walnut', 'dogwood']\n",
    "```\n",
    "\n",
    "If I want to grab just the 2nd through 5th elements of this list, I can use this command:\n",
    "\n",
    "```\n",
    "sub_trees = trees[1:5]\t\t# sub_trees = ['redwood', 'pine', 'maple', 'palm']\n",
    "```\n",
    "\n",
    "Notice that slicing is just like the `range()` function... it grabs from the first index up to but not including the last index.  So, the above command slices elements 1, 2, 3, and 4.\n",
    "\n",
    "Let's say you have a list called `student_data` like the one below (and this will be very common in this course):\n",
    "\n",
    "|0 (student_id)|1 (admitted?)|2 (test 1 score)|3 (test 2 score)|4 (test 3 score)|5 (test 4 score)|\n",
    "|-|-|-|-|-|-|\n",
    "|0|1|98|77|91|82|\n",
    "\n",
    "You only want to analyze the test scores and don't need the student_id or the admitted value. There are many commands that you could use to slice the desired data:\n",
    "\n",
    "```\n",
    "student_data = [0,1,98,77,91,82]\n",
    "\n",
    "scores = student_data[2:6]\n",
    "scores = student_data[ 2:len(student_data) ]\n",
    "scores = student_data[2: ]\n",
    "\n",
    "```\n",
    "Notice that in the last command I left out the final index.  This wasn't a mistake.  If you do this, it means go all to the way to the end of the list.\n",
    "\n",
    "Not surprisingly, if you leave out the first index, you'll slice all the elements in the array up to the final index.  Thus, if I wanted to grab all the non-scores from the list, I'd use this command:\n",
    "\n",
    "```\n",
    "other_data = student_data[ :2]\n",
    "```\n",
    "Can you use the negative index notation, just like we did for the `range()` function?  Yep.  Can you guess what the following command would do?\n",
    "\n",
    "```\n",
    "scores = student_data[-4: ]\n",
    "```\n",
    "Now, what if you left both the start index and end index empty?\n",
    "```\n",
    "copy = student_data[:] #this would slice the entire list\n",
    "```\n",
    "What if you want to grab every other element in an array?\n",
    "```\n",
    "sub_trees = trees[0:5:2]\t# would slice elements from 0 to 4, counting by 2's\n",
    "\n",
    "sub_trees = trees[1: :3]\t# would slice elements from 1 to the end, counting by 3's\n",
    "\n",
    "sub_trees = trees[6:1:-1]\t# would slice element from 6 to 2, counting backwards\n",
    "\n",
    "sub_trees = trees[ : :-3]\t# would slice all the elements counting backwards by 3's\n",
    "```\n",
    "Finally, if you want to, you can slice multidimensional lists (matrices) as well, but you have to use numpy to make the lists into numpy lists. To slice matrices just use a comma to separate the slicing command for each dimension.\n",
    "```\n",
    "import numpy as np\n",
    "list = np.array(old_list)\n",
    "\n",
    "sub_list = list[ :2, :3]\t\t# would slice the 1st 2 rows and 1st 3 elements in each row\n",
    "\n",
    "sub_list = list[:, 2:5]\t\t# would slice the 3rd through 5th elements of every row\n",
    "```\n",
    "\n",
    "Here's the sparknotes for indexing:\n",
    "```\n",
    "your_vector[start:stop:step] #for a vector or 1D list\n",
    "your_matrix[start:stop:step,start:stop:step] #for a numpy matrix\n",
    "```\n",
    "There are different axes in numpy matrices, if you only want to index the second axis, you'd do something like this:\n",
    "```\n",
    "your_matrix[:,start:stop:step] #returns all the elements in the first axis along with your indexed second axis\n",
    "```\n",
    "\n",
    "now it's time for...\n",
    "# PRACTICE"
   ]
  },
  {
   "cell_type": "code",
   "execution_count": null,
   "metadata": {},
   "outputs": [],
   "source": [
    "#slice a list of all the days of the week to just grab the weekdays\n",
    "week = ['sunday,''monday','tuesday','wednesday','thursday','friday','saturday']\n",
    "\n",
    "#write code here"
   ]
  },
  {
   "cell_type": "code",
   "execution_count": null,
   "metadata": {},
   "outputs": [],
   "source": [
    "#slice a list of all the days of the week to grab all the days after tuesday\n",
    "\n",
    "#write code here"
   ]
  },
  {
   "cell_type": "code",
   "execution_count": null,
   "metadata": {},
   "outputs": [],
   "source": [
    "#Create a list of the numbers from 1 to 100.\n",
    "#Slice the list to grab just the even numbers.\n",
    "\n",
    "#write code here"
   ]
  },
  {
   "cell_type": "code",
   "execution_count": null,
   "metadata": {},
   "outputs": [],
   "source": [
    "#Slice the same list of numbers to grab just the multiples of 5 (5, 10, 15, etc.).\n",
    "\n",
    "#write code here"
   ]
  },
  {
   "cell_type": "code",
   "execution_count": null,
   "metadata": {},
   "outputs": [],
   "source": [
    "#Slice the same list to grab all the multiples of 10, but counting backwards.\n",
    "\n",
    "#write code here"
   ]
  },
  {
   "cell_type": "code",
   "execution_count": null,
   "metadata": {},
   "outputs": [],
   "source": [
    "#Create a 10 x 10 2-D list with each row containing the numbers 0 through 9.\n",
    "#Slice the list to grab all of the 6's.\n",
    "#Print your results to confirm.\n",
    "\n",
    "#write code here"
   ]
  },
  {
   "cell_type": "code",
   "execution_count": null,
   "metadata": {},
   "outputs": [],
   "source": [
    "def return_columns(input_matrix):\n",
    "    \"\"\"\n",
    "    input: input_matrix of type numpy.ndarray of shape (M,N)\n",
    "    output: numpy list of each column in input_matrix\n",
    "    returns a numpy list of each column in the input_matrix\n",
    "    \"\"\"\n",
    "    #define function here\n",
    "wellygrad1.grader1_4_3(return_columns)"
   ]
  },
  {
   "cell_type": "code",
   "execution_count": null,
   "metadata": {},
   "outputs": [],
   "source": [
    "#this one's a little more challenging\n",
    "def moore_neighbors(input_matrix,index):\n",
    "    \"\"\"\n",
    "    input: input_matrix of type numpy.ndarray of shape (M,N)\n",
    "           index of type np.ndarray of shape (2,) where the cell will never be on the edge of input_matrix\n",
    "    output: np.ndarray of shape (8,)\n",
    "    returns a list of the value of each Moore neighbor of radius = 1 surrounding the given index starting from the top left and going counter-clockwise\n",
    "    example:\n",
    "    input_matrix = np.array([[1 ,2 ,3 ,4 ,5 ],\n",
    "                             [6 ,7 ,8 ,9 ,10],\n",
    "                             [11,12,13,14,15],\n",
    "                             [16,17,18,19,20],\n",
    "                             [21,22,23,24,25]])\n",
    "    index = [2,3] #corresponds to 14 in input_matrix\n",
    "    \n",
    "    moore_neighbors(input_matrix,index) #should return [8,13,18,19,20,15,10,9]\n",
    "    \"\"\"\n",
    "    #define function here\n",
    "\n",
    "wellygrad1.grader1_4_4(moore_neighbors)"
   ]
  },
  {
   "cell_type": "code",
   "execution_count": null,
   "metadata": {},
   "outputs": [],
   "source": [
    "#challenge:\n",
    "#* Create a 10 x 10 2-D list with the numbers from 0 to 99. \n",
    "#Slice the list to get only the following numbers... 27, 37, 47, 57, 67, 77.\n",
    "#Print your results to confirm.\n",
    "\n",
    "#write code here"
   ]
  }
 ],
 "metadata": {
  "kernelspec": {
   "display_name": "Python 3",
   "language": "python",
   "name": "python3"
  },
  "language_info": {
   "codemirror_mode": {
    "name": "ipython",
    "version": 3
   },
   "file_extension": ".py",
   "mimetype": "text/x-python",
   "name": "python",
   "nbconvert_exporter": "python",
   "pygments_lexer": "ipython3",
   "version": "3.7.7"
  }
 },
 "nbformat": 4,
 "nbformat_minor": 4
}
